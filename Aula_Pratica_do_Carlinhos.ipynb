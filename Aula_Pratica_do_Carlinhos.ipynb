{
  "nbformat": 4,
  "nbformat_minor": 0,
  "metadata": {
    "colab": {
      "provenance": [],
      "toc_visible": true,
      "authorship_tag": "ABX9TyO6zA1M2AW6kq9NXmo1RM/w",
      "include_colab_link": true
    },
    "kernelspec": {
      "name": "python3",
      "display_name": "Python 3"
    },
    "language_info": {
      "name": "python"
    }
  },
  "cells": [
    {
      "cell_type": "markdown",
      "metadata": {
        "id": "view-in-github",
        "colab_type": "text"
      },
      "source": [
        "<a href=\"https://colab.research.google.com/github/Carlinnn-crs/Pasta-Programa-o/blob/main/Aula_Pratica_do_Carlinhos.ipynb\" target=\"_parent\"><img src=\"https://colab.research.google.com/assets/colab-badge.svg\" alt=\"Open In Colab\"/></a>"
      ]
    },
    {
      "cell_type": "code",
      "execution_count": 28,
      "metadata": {
        "id": "GsPxaZEuOLJL"
      },
      "outputs": [],
      "source": [
        "#metodo para calcular o  valorabsoluto usando if-else\n",
        "def abs_if_else(valor):\n",
        "  if valor < 0:\n",
        "    return -valor\n",
        "  else:\n",
        "    return valor\n",
        "    #metodo para calcular valor absoluto usando operador ternario\n",
        "def abs_ternario(valor):\n",
        "  return -valor if valor < 0 else valor\n",
        ""
      ]
    },
    {
      "cell_type": "code",
      "source": [
        "#metodo para calcular somatorio de 0 ate n usando for\n",
        "def somatorio_for(n):\n",
        "  soma = 0\n",
        "  for i in range(n+1):\n",
        "    soma += i\n",
        "  return soma"
      ],
      "metadata": {
        "id": "qLCfdFVKR1eW"
      },
      "execution_count": 29,
      "outputs": []
    },
    {
      "cell_type": "code",
      "source": [
        "#metodo para calcular somatorio de 0 ate n usando while\n",
        "def somatorio_while(n):\n",
        "  soma = 0\n",
        "  i = 0\n",
        "  while i <= n:\n",
        "    soma += i\n",
        "    i += 1\n",
        "  return soma"
      ],
      "metadata": {
        "id": "6p02HzB_Sr5V"
      },
      "execution_count": 30,
      "outputs": []
    },
    {
      "cell_type": "code",
      "source": [],
      "metadata": {
        "id": "JU7JuW6xQcfP"
      },
      "execution_count": 30,
      "outputs": []
    },
    {
      "cell_type": "code",
      "source": [
        "#metodo para calcular somatorio de 0 ate n usando do-while (simulado em python)\n",
        "def somatorio_do_while(n):\n",
        "  soma = 0\n",
        "  i = 0\n",
        "  while True:\n",
        "    soma += i\n",
        "    i += 1\n",
        "    if i > n:\n",
        "      break\n",
        "  return soma"
      ],
      "metadata": {
        "id": "4S0Hz1CvS4Yc"
      },
      "execution_count": 31,
      "outputs": []
    },
    {
      "cell_type": "code",
      "source": [
        "# testes\n",
        "print(abs_if_else(-13))\n",
        "print(abs_ternario(-13))\n",
        "print(somatorio_for(20))\n",
        "print(somatorio_while(22))\n",
        "print(somatorio_do_while(21))\n"
      ],
      "metadata": {
        "colab": {
          "base_uri": "https://localhost:8080/"
        },
        "id": "pWGC_yy_TWVU",
        "outputId": "b8d0482a-190d-45f2-d446-652111aa7228"
      },
      "execution_count": 32,
      "outputs": [
        {
          "output_type": "stream",
          "name": "stdout",
          "text": [
            "13\n",
            "13\n",
            "210\n",
            "253\n",
            "231\n"
          ]
        }
      ]
    }
  ]
}